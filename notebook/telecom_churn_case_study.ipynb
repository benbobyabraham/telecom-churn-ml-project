{
 "cells": [
  {
   "cell_type": "code",
   "execution_count": 1,
   "id": "f6661b46",
   "metadata": {},
   "outputs": [
    {
     "name": "stdout",
     "output_type": "stream",
     "text": [
      "contourpy==1.0.7\n",
      "cycler==0.11.0\n",
      "fonttools==4.39.2\n",
      "kiwisolver==1.4.4\n",
      "matplotlib==3.7.1\n",
      "numpy==1.24.2\n",
      "packaging==23.0\n",
      "pandas==1.5.3\n",
      "Pillow==9.4.0\n",
      "pyparsing==3.0.9\n",
      "pyspark==3.3.0\n",
      "python-dateutil==2.8.2\n",
      "pytz==2022.7.1\n",
      "six==1.16.0\n",
      "sklearn==0.0.post1\n"
     ]
    }
   ],
   "source": [
    "!pip freeze"
   ]
  }
 ],
 "metadata": {
  "kernelspec": {
   "display_name": "Python 3 (ipykernel)",
   "language": "python",
   "name": "python3"
  },
  "language_info": {
   "codemirror_mode": {
    "name": "ipython",
    "version": 3
   },
   "file_extension": ".py",
   "mimetype": "text/x-python",
   "name": "python",
   "nbconvert_exporter": "python",
   "pygments_lexer": "ipython3",
   "version": "3.10.5"
  }
 },
 "nbformat": 4,
 "nbformat_minor": 5
}
